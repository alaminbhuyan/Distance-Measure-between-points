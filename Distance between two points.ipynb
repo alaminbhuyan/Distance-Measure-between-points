{
 "cells": [
  {
   "cell_type": "markdown",
   "id": "3b1ccd8e",
   "metadata": {},
   "source": [
    "## Euclidean Distance"
   ]
  },
  {
   "attachments": {
    "image.png": {
     "image/png": "[encoded data removed]"
    }
   },
   "cell_type": "markdown",
   "id": "e266129f",
   "metadata": {},
   "source": [
    "![image.png](attachment:image.png)"
   ]
  },
  {
   "cell_type": "code",
   "execution_count": 1,
   "id": "857b6c1f",
   "metadata": {},
   "outputs": [],
   "source": [
    "import numpy as np\n",
    "from sklearn.metrics.pairwise import euclidean_distances, manhattan_distances"
   ]
  },
  {
   "cell_type": "code",
   "execution_count": 2,
   "id": "3182c5e0",
   "metadata": {},
   "outputs": [
    {
     "data": {
      "text/plain": [
       "1.0"
      ]
     },
     "execution_count": 2,
     "metadata": {},
     "output_type": "execute_result"
    }
   ],
   "source": [
    "# consider two points with 2 dimensions\n",
    "\n",
    "p1 = (3,2)\n",
    "p2 = (4,2)\n",
    "\n",
    "distance = np.sqrt((p2[0] - p1[0])**2 + (p2[1] - p1[1])**2)\n",
    "distance"
   ]
  },
  {
   "cell_type": "code",
   "execution_count": 3,
   "id": "98c5b11c",
   "metadata": {},
   "outputs": [
    {
     "name": "stdout",
     "output_type": "stream",
     "text": [
      "1.7320508075688772\n"
     ]
    }
   ],
   "source": [
    "# consider two points with 3 dimensions\n",
    "p1 = (1,1,1)\n",
    "p2 = (2,2,2)\n",
    "\n",
    "# calculating Euclidean Distance \n",
    "\n",
    "dist = (p1[0] - p2[0])**2 + (p1[1] - p2[1])**2 + (p1[2] - p2[2])**2\n",
    "\n",
    "euclidean_dist = np.sqrt(dist)\n",
    "print(euclidean_dist)"
   ]
  },
  {
   "cell_type": "markdown",
   "id": "496058ae",
   "metadata": {},
   "source": [
    "## Our custom Function"
   ]
  },
  {
   "cell_type": "code",
   "execution_count": 4,
   "id": "151d10fd",
   "metadata": {},
   "outputs": [],
   "source": [
    "# Let's create a function that will findout distance between two for multidimension\n",
    "\n",
    "def euclideanDistance(point1, point2):\n",
    "    distance = 0\n",
    "    for i in zip(point2, point1):\n",
    "        distance += (i[0] - i[1])**2\n",
    "    \n",
    "    return np.sqrt(distance)"
   ]
  },
  {
   "cell_type": "code",
   "execution_count": 5,
   "id": "d9b11cc9",
   "metadata": {},
   "outputs": [
    {
     "data": {
      "text/plain": [
       "4.358898943540674"
      ]
     },
     "execution_count": 5,
     "metadata": {},
     "output_type": "execute_result"
    }
   ],
   "source": [
    "euclideanDistance((3,1,2,7), (4,5,1,6))"
   ]
  },
  {
   "cell_type": "markdown",
   "id": "82484d7d",
   "metadata": {},
   "source": [
    "## Using Scikit-learn Function"
   ]
  },
  {
   "cell_type": "markdown",
   "id": "a059d71e",
   "metadata": {},
   "source": [
    "https://scikit-learn.org/stable/modules/generated/sklearn.metrics.pairwise.euclidean_distances.html#sklearn.metrics.pairwise.euclidean_distances"
   ]
  },
  {
   "cell_type": "markdown",
   "id": "aa5776f4",
   "metadata": {},
   "source": [
    "#### Scikit learn try to find-out each and evry distance for very points"
   ]
  },
  {
   "attachments": {
    "image.png": {
     "image/png": "[encoded data removed]"
    }
   },
   "cell_type": "markdown",
   "id": "60eeac15",
   "metadata": {},
   "source": [
    "![image.png](attachment:image.png)"
   ]
  },
  {
   "cell_type": "code",
   "execution_count": 6,
   "id": "7baf4fd5",
   "metadata": {},
   "outputs": [
    {
     "data": {
      "text/plain": [
       "array([[73.        ,  4.35889894,  9.        ],\n",
       "       [74.12152184,  0.        ,  5.29150262],\n",
       "       [77.1621669 ,  3.74165739,  3.16227766]])"
      ]
     },
     "execution_count": 6,
     "metadata": {},
     "output_type": "execute_result"
    }
   ],
   "source": [
    "# here is 'x' contain three points and 'y' contains three points and very point is 4D\n",
    "\n",
    "# sklearn used above formula\n",
    "\n",
    "euclidean_distances(X=[(3,1,2,7), (4,5,1,6), (6,5,2,3)], Y=[(3,1,2,80), (4,5,1,6), (7,8,2,3)])"
   ]
  },
  {
   "cell_type": "code",
   "execution_count": 7,
   "id": "f89b5e31",
   "metadata": {},
   "outputs": [
    {
     "name": "stdout",
     "output_type": "stream",
     "text": [
      "73.0\n",
      "4.358898943540674\n",
      "9.0\n",
      "\n",
      "74.1215218408257\n",
      "0.0\n",
      "5.291502622129181\n",
      "\n",
      "77.1621668954417\n",
      "3.7416573867739413\n",
      "3.1622776601683795\n"
     ]
    }
   ],
   "source": [
    "print(euclideanDistance((3,1,2,7), (3,1,2,80)))\n",
    "print(euclideanDistance((3,1,2,7), (4,5,1,6)))\n",
    "print(euclideanDistance((3,1,2,7), (7,8,2,3)))\n",
    "\n",
    "print()\n",
    "\n",
    "print(euclideanDistance((4,5,1,6), (3,1,2,80)))\n",
    "print(euclideanDistance((4,5,1,6), (4,5,1,6)))\n",
    "print(euclideanDistance((4,5,1,6), (7,8,2,3)))\n",
    "\n",
    "print()\n",
    "\n",
    "print(euclideanDistance((6,5,2,3), (3,1,2,80)))\n",
    "print(euclideanDistance((6,5,2,3), (4,5,1,6)))\n",
    "print(euclideanDistance((6,5,2,3), (7,8,2,3)))"
   ]
  },
  {
   "cell_type": "code",
   "execution_count": 8,
   "id": "0163a4f0",
   "metadata": {},
   "outputs": [
    {
     "data": {
      "text/plain": [
       "array([[0.        , 4.35889894, 6.40312424],\n",
       "       [4.35889894, 0.        , 3.74165739],\n",
       "       [6.40312424, 3.74165739, 0.        ]])"
      ]
     },
     "execution_count": 8,
     "metadata": {},
     "output_type": "execute_result"
    }
   ],
   "source": [
    "euclidean_distances(X=[(3,1,2,7), (4,5,1,6), (6,5,2,3)])"
   ]
  },
  {
   "cell_type": "code",
   "execution_count": 9,
   "id": "925234fc",
   "metadata": {},
   "outputs": [
    {
     "name": "stdout",
     "output_type": "stream",
     "text": [
      "0.0\n",
      "4.358898943540674\n",
      "6.4031242374328485\n",
      "\n",
      "4.358898943540674\n",
      "0.0\n",
      "3.7416573867739413\n",
      "\n",
      "6.4031242374328485\n",
      "3.7416573867739413\n",
      "0.0\n"
     ]
    }
   ],
   "source": [
    "print(euclideanDistance((3,1,2,7), (3,1,2,7)))\n",
    "print(euclideanDistance((3,1,2,7), (4,5,1,6)))\n",
    "print(euclideanDistance((3,1,2,7), (6,5,2,3)))\n",
    "\n",
    "print()\n",
    "\n",
    "print(euclideanDistance((4,5,1,6), (3,1,2,7)))\n",
    "print(euclideanDistance((4,5,1,6), (4,5,1,6)))\n",
    "print(euclideanDistance((4,5,1,6), (6,5,2,3)))\n",
    "\n",
    "print()\n",
    "\n",
    "print(euclideanDistance((6,5,2,3), (3,1,2,7)))\n",
    "print(euclideanDistance((6,5,2,3), (4,5,1,6)))\n",
    "print(euclideanDistance((6,5,2,3), (6,5,2,3)))"
   ]
  },
  {
   "cell_type": "markdown",
   "id": "7966d0d2",
   "metadata": {},
   "source": [
    "## Manhattan Distance"
   ]
  },
  {
   "attachments": {
    "image.png": {
     "image/png": "[encoded data removed]"
    }
   },
   "cell_type": "markdown",
   "id": "86331bb2",
   "metadata": {},
   "source": [
    "![image.png](attachment:image.png)"
   ]
  },
  {
   "cell_type": "markdown",
   "id": "a88ae3a9",
   "metadata": {},
   "source": [
    "https://scikit-learn.org/stable/modules/generated/sklearn.metrics.pairwise.manhattan_distances.html#sklearn.metrics.pairwise.manhattan_distances"
   ]
  },
  {
   "cell_type": "code",
   "execution_count": 10,
   "id": "4466b0a8",
   "metadata": {},
   "outputs": [],
   "source": [
    "# Let's create a function that will findout distance between two for multidimension\n",
    "\n",
    "def manhattanDistance(point1, point2):\n",
    "    distance = 0\n",
    "    for i in zip(point2, point1):\n",
    "        distance += abs(i[0] - i[1])\n",
    "    \n",
    "    return distance"
   ]
  },
  {
   "cell_type": "code",
   "execution_count": 11,
   "id": "8b4b6eee",
   "metadata": {},
   "outputs": [
    {
     "data": {
      "text/plain": [
       "3"
      ]
     },
     "execution_count": 11,
     "metadata": {},
     "output_type": "execute_result"
    }
   ],
   "source": [
    "manhattanDistance(p1, p2)"
   ]
  }
 ],
 "metadata": {
  "kernelspec": {
   "display_name": "Python 3 (ipykernel)",
   "language": "python",
   "name": "python3"
  },
  "language_info": {
   "codemirror_mode": {
    "name": "ipython",
    "version": 3
   },
   "file_extension": ".py",
   "mimetype": "text/x-python",
   "name": "python",
   "nbconvert_exporter": "python",
   "pygments_lexer": "ipython3",
   "version": "3.10.9"
  }
 },
 "nbformat": 4,
 "nbformat_minor": 5
}
